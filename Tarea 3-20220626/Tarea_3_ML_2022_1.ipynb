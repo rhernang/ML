{
  "cells": [
    {
      "cell_type": "markdown",
      "metadata": {
        "id": "ojBlRMp8KE7B"
      },
      "source": [
        "<img src=\"https://www.inf.utfsm.cl/images/slides/Departamento-de-Informtica_HORIZONTAL.png\" title=\"Title text\" width=\"80%\" />\n",
        "\n",
        "<hr style=\"height:2px;border:none\"/>\n",
        "<h1 align='center'> INF-398/578 Introducción al aprendizaje automático</h1>\n",
        "\n",
        "<h4 align='center'><b>Tarea 3: Redes neuronales y ensamblados.</b></h4>\n",
        "\n",
        "\n",
        "<h6 align='center'><b>Profesor:</b> Carlos Valle</h6>\n",
        "<h6 align='center'><b>Ayudante:</b> Jean Aravena</h6>\n",
        "\n",
        "\n",
        "\n",
        "<hr style=\"height:2px;border:none\"/>\n",
        "\n",
        "# **Tarea 3 📃**\n",
        "\n",
        "## **Temas**  \n",
        "\n",
        "* Redes neuronales.\n",
        "* Ensamblados.\n",
        "* Random Forest, XGBoost, CatBoost.\n",
        "\n",
        "\n",
        "## **Formalidades** \n",
        "\n",
        "* Equipos de trabajo de 2 personas.\n",
        "* El entregable debe ser este mismo Jupyter Notebook incluyendo todos los resultados, los gráficos realizados y las respuestas a las preguntas. \n",
        "* Se debe preparar una presentación del trabajo realizado y sus hallazgos. El presentador será elegido aleatoriamente y deberá apoyarse en el Jupyter Notebook que entregarán.\n",
        "* Formato de entrega: Subir a aula el Jupyter Notebook con el nombre NombreGrupo_Tarea_3_ML_2022_1\n",
        "* Fecha de entrega y presentaciones: 22 de Julio. Hora límite de entrega: 14:30.\n",
        " \n",
        "\n",
        "<hr style=\"height:2px;border:none\"/>\n",
        "\n",
        "La tarea se divide en 3 partes:\n",
        "\n",
        "1.   Redes Neuronales.\n",
        "2.   Ensamblados.\n",
        "3.   Desafío.\n",
        "\n",
        "\n",
        "La tarea tiene ejemplos de códigos con los cuales pueden guiarse en gran parte, sin embargo, solo son guías y pueden ser creativos al momento de resolver la tarea. También en algunas ocasiones se hacen elecciones arbitrarias, ustedes pueden realizar otras elecciones con tal de que haya una pequeña justificación de por qué su elección es mejor o equivalente.\n",
        "\n",
        "Recuerden intercalar su código con comentarios y utilizar celdas Markdown en caso de que sea necesario para realizar análisis, escribir fórmulas o realizar explicaciones que les parezca relevante para justificar sus procedimientos. \n",
        "\n",
        "Noten que en general cuando se les pide elegir algo o proponer algo no se evaluará mucho la elección en sí, en cambio la argumentación detrás de la elección será lo más ponderado.\n",
        "\n",
        "*Se recomienda el uso de Google Colab para realizar la tarea.*"
      ]
    },
    {
      "cell_type": "markdown",
      "source": [
        "# Librerias 📚\n",
        " "
      ],
      "metadata": {
        "id": "haJIF-399bR6"
      }
    },
    {
      "cell_type": "markdown",
      "source": [
        "Agregar cualquier otra librería que requiera para el desarrollo de la tarea."
      ],
      "metadata": {
        "id": "yIDW-56YjMrK"
      }
    },
    {
      "cell_type": "code",
      "source": [
        "!pip install -q -U catboost\n",
        "!pip install -q -U keras-tuner"
      ],
      "metadata": {
        "id": "FdnfnCeKEBMR"
      },
      "execution_count": null,
      "outputs": []
    },
    {
      "cell_type": "code",
      "source": [
        "import os\n",
        "import re\n",
        "import warnings\n",
        "import numpy as np\n",
        "import pandas as pd\n",
        "import seaborn as sns\n",
        "import matplotlib.pyplot as plt\n",
        "import tensorflow as tf\n",
        "import keras_tuner as kt\n",
        "from xgboost import XGBRegressor\n",
        "from catboost import CatBoostRegressor\n",
        "from tensorflow.keras.layers import Input, Dense, Layer\n",
        "from tensorflow.keras.models import Sequential, Model\n",
        "from tensorflow.keras.optimizers import Adam\n",
        "from tensorflow.keras.callbacks import EarlyStopping, ModelCheckpoint\n",
        "from tensorflow.keras.losses import MeanSquaredError, Loss\n",
        "from sklearn.model_selection import KFold\n",
        "from sklearn.model_selection import cross_val_score \n",
        "from sklearn.model_selection import train_test_split\n",
        "from sklearn.model_selection import PredefinedSplit\n",
        "from sklearn.model_selection import RandomizedSearchCV\n",
        "from sklearn.metrics import median_absolute_error, mean_absolute_error, mean_squared_error\n",
        "from sklearn.preprocessing import StandardScaler, MinMaxScaler, LabelEncoder, OrdinalEncoder, OneHotEncoder\n",
        "from sklearn.decomposition import PCA\n",
        "\n",
        "sns.set_theme()\n",
        "warnings.filterwarnings('ignore')"
      ],
      "metadata": {
        "id": "DC5u2mMq9fGq"
      },
      "execution_count": null,
      "outputs": []
    },
    {
      "cell_type": "markdown",
      "source": [
        "# Utils ⚙️  "
      ],
      "metadata": {
        "id": "UEDqTItu9ej2"
      }
    },
    {
      "cell_type": "code",
      "source": [
        "print(\"Mounting your Google Drive ...\")\n",
        "\n",
        "from google.colab import drive\n",
        "drive.flush_and_unmount()\n",
        "drive.mount('/content/drive', force_remount=True)\n",
        "\n",
        "# Path to your folder\n",
        "path = '/content/drive/MyDrive/Machine Learning/Data'"
      ],
      "metadata": {
        "colab": {
          "base_uri": "https://localhost:8080/"
        },
        "id": "RiCY23E-9mVQ",
        "outputId": "03e53ddd-cb69-4ad3-e3bc-2206abc20f04"
      },
      "execution_count": null,
      "outputs": [
        {
          "output_type": "stream",
          "name": "stdout",
          "text": [
            "Mounting your Google Drive ...\n",
            "Mounted at /content/drive\n"
          ]
        }
      ]
    },
    {
      "cell_type": "code",
      "source": [
        "# Set all seed.\n",
        "def set_all_seed(seed=0):\n",
        "  \"\"\"Set the same seed for all the libraries that we use.\"\"\"\n",
        "  np.random.seed(seed)\n",
        "  tf.random.set_seed(seed)\n",
        "\n",
        "# Elegir cualquier semilla y siempre que se pueda utilizarla\n",
        "# random_state = SEED\n",
        "SEED = 2022\n",
        "\n",
        "set_all_seed(seed=SEED)"
      ],
      "metadata": {
        "id": "DLo2nGNfFI6x"
      },
      "execution_count": null,
      "outputs": []
    },
    {
      "cell_type": "markdown",
      "metadata": {
        "id": "u1EWslQoKE7L"
      },
      "source": [
        "# 1.1) Redes Neuronales 💣"
      ]
    },
    {
      "cell_type": "markdown",
      "source": [
        "<img src=\"https://drive.google.com/uc?id=12fnVpIB_qDJx_OVty7aWT1Ftw2o9r1Hl\" width=\"60%\"/>\n",
        "\n",
        "[Referencia](https://purnasaigudikandula.medium.com/a-beginner-intro-to-neural-networks-543267bda3c8)"
      ],
      "metadata": {
        "id": "emLtdE8FJRjj"
      }
    },
    {
      "cell_type": "markdown",
      "source": [
        "Para la creación de redes neuronales generalmente existen dos bandos:\n",
        "\n",
        "\n",
        "*   `Pytorch`\n",
        "*   `Tensorflow`\n",
        "\n",
        "Por un lado, tenemos a `Pytorch` que es mayormente utilizado en investigación y por otro lado tenemos a `Tensorflow` que es mayormente utilizado en la industria. Ambos tienen la misma capacidad de abstracción y ambos son ampliamente aceptados y poseen una gran comunidad que los respalda.\n",
        "\n",
        "Si nos vamos a una página bastante conocida como lo es [Papers With Code](https://paperswithcode.com/) podemos ver que desde la fecha `2018-03-01` hasta `2022-03-31` existe una tendencia creciente para el uso de `Pytorch` en términos de utilización en nuevos papers, es por ello por lo que en general si se va a realizar investigación se recomienda `Pytorch`, pero ambos son útiles y si sabes uno se hace más fácil cambiarse de uno a otro. En introducción a las redes neuronales se utiliza `Tensorflow`, es por ello que también emplearemos ese framework en esta tarea, pero como se mencionó anteriormente no importa mucho cual aprendas porque te puedes cambiar cuando sea necesario.\n",
        "\n",
        "\n",
        "<img src=\"https://drive.google.com/uc?id=1xVqc0kPI1TXmhMmsMJnxOiUsGAaqiYGP\" width=\"80%\"/>\n",
        "\n",
        "\n",
        "[Referencia](https://paperswithcode.com/trends)"
      ],
      "metadata": {
        "id": "EcmMl0mFYKup"
      }
    },
    {
      "cell_type": "markdown",
      "source": [
        "## Carga y exploración de la data"
      ],
      "metadata": {
        "id": "Q4Dbi7vA8IIh"
      }
    },
    {
      "cell_type": "code",
      "source": [
        "# Cargar la data que corresponde a un csv\n",
        "PATH_TO_CSV = os.path.join(path, \"tarea_3_house_price.csv\")\n",
        "df_data = pd.read_csv(PATH_TO_CSV)"
      ],
      "metadata": {
        "id": "m9T3L8zA8HIs"
      },
      "execution_count": null,
      "outputs": []
    },
    {
      "cell_type": "markdown",
      "source": [
        "<img src=\"https://drive.google.com/uc?id=13v7iUc8zmqlQ46aMfbtQ5dIEtDcdiNYx\" width=\"50%\"/>\n",
        "\n",
        "\n",
        "Para la primera parte de la tarea trabajaremos con un dataset muy clásico en ML el cual es [House Sales in King County, USA](https://www.kaggle.com/datasets/harlfoxem/housesalesprediction), que viene de `Kaggle`."
      ],
      "metadata": {
        "id": "RenFcDcP8zxd"
      }
    },
    {
      "cell_type": "markdown",
      "source": [
        "La data corresponde a 21.613 instancias las cuales tienen relación con precios de casas en dólares.\n",
        "\n",
        "El dataset cuenta con 20 features las cuales están diseñadas para identificar ciertos patrones y con ello tratar de predecir el precio de una casa.\n",
        "\n",
        "Features:\n",
        "\n",
        "* `id`: Unique ID for each home sold\n",
        "* `date`: Date of the home sale\n",
        "* `bedrooms`: Number of bedrooms\n",
        "* `bathrooms`: Number of bathrooms, where .5 accounts for a room with a toilet  but no shower\n",
        "* `sqft_living`: Square footage of the apartments interior living space\n",
        "* `sqft_lot`: Square footage of the land space\n",
        "* `floors`: Number of floors\n",
        "* `waterfront`: A dummy variable for whether the apartment was overlooking the waterfront or not\n",
        "* `view`: An index from 0 to 4 of how good the view of the property was\n",
        "* `condition`: An index from 1 to 5 on the condition of the apartment,\n",
        "* `grade`: An index from 1 to 13, where 1-3 falls short of building construction and design, 7 has an average level of construction and design, and 11-13 have a high quality level of construction and design.\n",
        "* `sqft_above`: The square footage of the interior housing space that is above ground level\n",
        "* `sqft_basement`: The square footage of the interior housing space that is below ground level\n",
        "* `yr_built`: The year the house was initially built\n",
        "* `yr_renovated`: The year of the house’s last renovation\n",
        "* `zipcode`: What zipcode area the house is in\n",
        "* `lat`: Lattitude\n",
        "* `long`: Longitude\n",
        "* `sqft_living15`: The square footage of interior housing living space for the nearest 15 neighbors\n",
        "* `sqft_lot15`: The square footage of the land lots of the nearest 15 neighbors\n",
        "\n",
        "Target:\n",
        "* `price`: Price of each home sold"
      ],
      "metadata": {
        "id": "NOG8Zx1UA8YL"
      }
    },
    {
      "cell_type": "markdown",
      "source": [
        "**Como es usual realice un pequeño EDA (Exploratory Data Analysis). Comente los resultados obtenidos** [2 Pts]"
      ],
      "metadata": {
        "id": "CjHjsgt2DuZn"
      }
    },
    {
      "cell_type": "code",
      "source": [
        "### START CODE HERE ###\n"
      ],
      "metadata": {
        "id": "sETV494TAxeo"
      },
      "execution_count": null,
      "outputs": []
    },
    {
      "cell_type": "markdown",
      "source": [
        "## Preprocesamiento"
      ],
      "metadata": {
        "id": "8v9MFmhP8-e8"
      }
    },
    {
      "cell_type": "markdown",
      "source": [
        "**Divida la data en training/validation/testing considerando un split 80/10/10 y realice un preprocesamiento a la data** [2 Pts] "
      ],
      "metadata": {
        "id": "wKymUvwZEWI_"
      }
    },
    {
      "cell_type": "code",
      "source": [
        "### START CODE HERE ###\n"
      ],
      "metadata": {
        "id": "vl245sIbEq6e"
      },
      "execution_count": null,
      "outputs": []
    },
    {
      "cell_type": "markdown",
      "source": [
        "## Formas de crear una red neuronal"
      ],
      "metadata": {
        "id": "E_rSliczEFaB"
      }
    },
    {
      "cell_type": "markdown",
      "source": [
        "Existen tres formas distintas para crear una red neuronal utilizando `Tensorflow`:\n",
        "\n",
        "\n",
        "1.   `Sequential API`\n",
        "2.   `Functional API`\n",
        "3.   `Model Subclassing`\n",
        "\n",
        "\n",
        "Ordenados de menor a mayor en términos de flexibilidad, pero con el costo de trabajar a más bajo nivel.\n",
        "\n",
        "\n"
      ],
      "metadata": {
        "id": "f9K1U6_mKw38"
      }
    },
    {
      "cell_type": "markdown",
      "source": [
        "### ¿Cómo preparar la data para utilizarla en una red neuronal?\n"
      ],
      "metadata": {
        "id": "CeCFfv9i9Orh"
      }
    },
    {
      "cell_type": "markdown",
      "source": [
        "Antes de crear la red aprenderemos a cómo preparar la data para ser utilizada posteriormente. Si bien existen múltiples formas, veremos el estándar que tiene Google en sus [tutoriales](https://www.tensorflow.org/tutorials) de `Tensorflow`. Lo cual consiste en hacer uso de [tf.data.Dataset](https://www.tensorflow.org/api_docs/python/tf/data/DatasetSpec)"
      ],
      "metadata": {
        "id": "aRJk72LB9fm3"
      }
    },
    {
      "cell_type": "markdown",
      "source": [
        "**Siga los pasos indicados a continuación considerando la data** [1 Pts]"
      ],
      "metadata": {
        "id": "QO1d3qBeYAqX"
      }
    },
    {
      "cell_type": "markdown",
      "source": [
        "Separe cada dataframe en features y target.\n"
      ],
      "metadata": {
        "id": "Ut8AxjWD_mtw"
      }
    },
    {
      "cell_type": "code",
      "source": [
        "### START CODE HERE ###\n"
      ],
      "metadata": {
        "id": "mCYux44R_4sO"
      },
      "execution_count": null,
      "outputs": []
    },
    {
      "cell_type": "markdown",
      "source": [
        "Crear los dataset de entrenamiento, validacion y testing utilizando `tf.data.Dataset.from_tensor_slices` considerando como parámetro la tupla X, y. Ejemplo: `tf.data.Dataset.from_tensor_slices(X_train.values, y_train.values)`\n"
      ],
      "metadata": {
        "id": "8G_YIINze2yK"
      }
    },
    {
      "cell_type": "code",
      "source": [
        "### START CODE HERE ###\n"
      ],
      "metadata": {
        "id": "jPloFvA0X2dZ"
      },
      "execution_count": null,
      "outputs": []
    },
    {
      "cell_type": "markdown",
      "source": [
        "Podemos mostrar la estructura del dataset con un print o bien llamando a la variable."
      ],
      "metadata": {
        "id": "rzDBJzobfapd"
      }
    },
    {
      "cell_type": "code",
      "source": [
        "train_dataset"
      ],
      "metadata": {
        "colab": {
          "base_uri": "https://localhost:8080/"
        },
        "id": "9dR9PoB1fahE",
        "outputId": "608f1238-698a-4741-caa7-b67a600522d3"
      },
      "execution_count": null,
      "outputs": [
        {
          "output_type": "execute_result",
          "data": {
            "text/plain": [
              "<TensorSliceDataset element_spec=(TensorSpec(shape=(24,), dtype=tf.float64, name=None), TensorSpec(shape=(), dtype=tf.float64, name=None))>"
            ]
          },
          "metadata": {},
          "execution_count": 27
        }
      ]
    },
    {
      "cell_type": "markdown",
      "source": [
        "También podemos mostrar un elemento en específico del dataset."
      ],
      "metadata": {
        "id": "IHivDDvafu2F"
      }
    },
    {
      "cell_type": "code",
      "source": [
        "for (X, y) in train_dataset:\n",
        "  print(X)\n",
        "  print(y)\n",
        "  break"
      ],
      "metadata": {
        "colab": {
          "base_uri": "https://localhost:8080/"
        },
        "id": "JDUhotNEfyLs",
        "outputId": "266df5c2-e55d-4f47-c164-e92cf7b1e6aa"
      },
      "execution_count": null,
      "outputs": [
        {
          "output_type": "stream",
          "name": "stdout",
          "text": [
            "tf.Tensor(\n",
            "[-4.54545455e-01 -1.87500000e-01 -6.10544218e-01 -9.88726944e-01\n",
            " -6.00000000e-01  1.00000000e+00  3.00000000e+00  7.00000000e+00\n",
            " -6.56942824e-01 -5.28735632e-01  7.80000000e+01  0.00000000e+00\n",
            "  1.40000000e+01  2.07978124e-01 -2.27574751e-01 -4.15652174e-01\n",
            "  1.02700000e+04  1.00000000e+00 -7.43144825e-01 -6.69130606e-01\n",
            "  1.00000000e+00  6.12323400e-17  1.00000000e+00  0.00000000e+00], shape=(24,), dtype=float64)\n",
            "tf.Tensor(688888.0, shape=(), dtype=float64)\n"
          ]
        }
      ]
    },
    {
      "cell_type": "markdown",
      "source": [
        "`Tensorflow` funciona en base a tensores. Un `tensor` no es más ni menos que una matriz con cero o más dimensiones. Un `tensor` de dimension cero se llama escalar\n"
      ],
      "metadata": {
        "id": "0PpTtRyCgfhw"
      }
    },
    {
      "cell_type": "markdown",
      "source": [
        "En este caso vamos a mostrar tensores de 0, 1 y 2 dimensiones para comprender como varia el valor de shape en cada caso."
      ],
      "metadata": {
        "id": "XXWGVhOFiaf_"
      }
    },
    {
      "cell_type": "code",
      "source": [
        "tensor_zero_dimension = tf.Variable(1, tf.int32)\n",
        "tensor_zero_dimension "
      ],
      "metadata": {
        "colab": {
          "base_uri": "https://localhost:8080/"
        },
        "id": "IUmSa7VTi5EH",
        "outputId": "ddf16370-4142-4c7e-b215-7f37092c8773"
      },
      "execution_count": null,
      "outputs": [
        {
          "output_type": "execute_result",
          "data": {
            "text/plain": [
              "<tf.Variable 'Variable:0' shape=() dtype=int32, numpy=1>"
            ]
          },
          "metadata": {},
          "execution_count": 16
        }
      ]
    },
    {
      "cell_type": "markdown",
      "source": [
        "Si el `tensor` es un escalar entonces vamos a tener `shape=()`."
      ],
      "metadata": {
        "id": "eSQ3KizFAlWf"
      }
    },
    {
      "cell_type": "code",
      "source": [
        "tensor_one_dimension = tf.Variable([2, 3], tf.int32)\n",
        "tensor_one_dimension"
      ],
      "metadata": {
        "colab": {
          "base_uri": "https://localhost:8080/"
        },
        "id": "Uqo-0dqtfZuA",
        "outputId": "f3f10bed-bb54-4c8c-d012-151d64d282b4"
      },
      "execution_count": null,
      "outputs": [
        {
          "output_type": "execute_result",
          "data": {
            "text/plain": [
              "<tf.Variable 'Variable:0' shape=(2,) dtype=int32, numpy=array([2, 3], dtype=int32)>"
            ]
          },
          "metadata": {},
          "execution_count": 385
        }
      ]
    },
    {
      "cell_type": "markdown",
      "source": [
        "Si el `tensor` es de una dimension vamos a tener `shape=(2, )` lo que indica que tenemos un `tensor` con una dimension y dos elementos."
      ],
      "metadata": {
        "id": "dbiFN_ZJArIX"
      }
    },
    {
      "cell_type": "code",
      "source": [
        "tensor_two_dimension = tf.Variable([[1, 2], [2, 3]], tf.int32)\n",
        "tensor_two_dimension"
      ],
      "metadata": {
        "colab": {
          "base_uri": "https://localhost:8080/"
        },
        "id": "aigU9x64iq3a",
        "outputId": "63908d21-00e7-481b-99ac-9e29bf6cfcf3"
      },
      "execution_count": null,
      "outputs": [
        {
          "output_type": "execute_result",
          "data": {
            "text/plain": [
              "<tf.Variable 'Variable:0' shape=(2, 2) dtype=int32, numpy=\n",
              "array([[1, 2],\n",
              "       [2, 3]], dtype=int32)>"
            ]
          },
          "metadata": {},
          "execution_count": 386
        }
      ]
    },
    {
      "cell_type": "markdown",
      "source": [
        "Si el `tensor` es de dos dimensiones vamos a tener `shape=(2, 2)` lo que indica que tenemos un `tensor` con dos dimension y dos elementos.\n"
      ],
      "metadata": {
        "id": "NSKmm0hSA_DP"
      }
    },
    {
      "cell_type": "markdown",
      "source": [
        "En conclusión si tenemos `shape=(x, y)` el valor `x` corresponde a la cantidad de elementos que existe en el tensor e `y` corresponde a la dimensionalidad de este. Cuando `shape=()` significa que tenemos un escalar lo que es igual a tener un tensor de dimensionalidad cero."
      ],
      "metadata": {
        "id": "XLTpY4WgjMn_"
      }
    },
    {
      "cell_type": "markdown",
      "source": [
        "En caso de que queramos obtener el valor de un `Tensor` como usualmente se aprecia en `numpy`, tenemos que utilizar `X.numpy()` o bien `y.numpy()`."
      ],
      "metadata": {
        "id": "2TNcIVuM8I7P"
      }
    },
    {
      "cell_type": "code",
      "source": [
        "for (X, y) in train_dataset:\n",
        "  print(X.numpy())\n",
        "  print(y.numpy())\n",
        "  break"
      ],
      "metadata": {
        "colab": {
          "base_uri": "https://localhost:8080/"
        },
        "id": "w62r7IKi8NTR",
        "outputId": "e78aa62a-d28f-4459-fc18-e4a72cc76627"
      },
      "execution_count": null,
      "outputs": [
        {
          "output_type": "stream",
          "name": "stdout",
          "text": [
            "[-4.54545455e-01 -1.87500000e-01 -6.10544218e-01 -9.88726944e-01\n",
            " -6.00000000e-01  1.00000000e+00  3.00000000e+00  7.00000000e+00\n",
            " -6.56942824e-01 -5.28735632e-01  7.80000000e+01  0.00000000e+00\n",
            "  1.40000000e+01  2.07978124e-01 -2.27574751e-01 -4.15652174e-01\n",
            "  1.02700000e+04  1.00000000e+00 -7.43144825e-01 -6.69130606e-01\n",
            "  1.00000000e+00  6.12323400e-17  1.00000000e+00  0.00000000e+00]\n",
            "688888.0\n"
          ]
        }
      ]
    },
    {
      "cell_type": "markdown",
      "source": [
        "Continuando con el tutorial de la preparación de la data, el primer paso es tener el dataset en la forma de tupla `(X, y)`. Como ya tenemos el dataset de la forma correcta, el siguiente paso es preparar el dataset para ser usado por la red neuronal. Para ello utilicen la siguiente funcion:"
      ],
      "metadata": {
        "id": "FNtQBmx49BTd"
      }
    },
    {
      "cell_type": "code",
      "source": [
        "def preprocess_dataset(dataset, batch_size, size):\n",
        "  \"\"\"Preprocess dataset.\n",
        "\n",
        "    :param dataset: Dataset para prepararlo para el entrenamiento\n",
        "    :type dataset: tensorflow.python.data.ops.dataset_ops.TensorSliceDataset\n",
        "    :param batch_size: Tamano del batch a utilizar para entrenamiento\n",
        "    :type batch_size: int\n",
        "    :param table_name: Tamano del dataset\n",
        "    :type table_name: int\n",
        "    :return: Dataset listo para ser usado por la red neuronal\n",
        "    :rtype: tensorflow.python.data.ops.dataset_ops.TensorSliceDataset\n",
        "  \"\"\"\n",
        "\n",
        "  AUTOTUNE = tf.data.AUTOTUNE\n",
        "\n",
        "  dataset = dataset.shuffle(size)\n",
        "  dataset = dataset.batch(batch_size)\n",
        "  dataset = dataset.prefetch(buffer_size=AUTOTUNE)\n",
        "  dataset = dataset.cache()\n",
        "\n",
        "  return dataset"
      ],
      "metadata": {
        "id": "JIbGHi0n9A7Q"
      },
      "execution_count": null,
      "outputs": []
    },
    {
      "cell_type": "markdown",
      "source": [
        "**De que sirve la funcion anterior** [1 Pts] "
      ],
      "metadata": {
        "id": "9Ewlro1vqFsJ"
      }
    },
    {
      "cell_type": "markdown",
      "source": [
        "`Comentario`: "
      ],
      "metadata": {
        "id": "2Mn_kSYLqI17"
      }
    },
    {
      "cell_type": "code",
      "source": [
        "### START CODE HERE ###\n"
      ],
      "metadata": {
        "id": "IfV2UNCzDYTa"
      },
      "execution_count": null,
      "outputs": []
    },
    {
      "cell_type": "markdown",
      "source": [
        "**Explique el significado del tamano del batch (`batch size`) en la implementación moderna del algoritmo BP (`back-propagation`). ¿Qué valor recomendaría si su conjunto de entrenamiento es de 10.000 ejemplos? ¿Qué valor recomendaría si su conjunto de entrenamiento es de 1.000.000 de ejemplos?** [1 Pts]"
      ],
      "metadata": {
        "id": "5Qe2DiPrRzKW"
      }
    },
    {
      "cell_type": "markdown",
      "source": [
        "`Respuesta:`"
      ],
      "metadata": {
        "id": "lH5HfqjWR4bs"
      }
    },
    {
      "cell_type": "markdown",
      "source": [
        "Finalmente, tenemos listo el dataset para ser utilizado por la red neuronal."
      ],
      "metadata": {
        "id": "dvIXdPymClng"
      }
    },
    {
      "cell_type": "markdown",
      "source": [
        "### Sequential API"
      ],
      "metadata": {
        "id": "yfWea7NH7Kal"
      }
    },
    {
      "cell_type": "markdown",
      "source": [
        "Crear y entrenar una red neuronal que tenga:\n",
        "\n",
        "\n",
        "*   1 capa de entrada (Identifique que dimensiones debería tener)\n",
        "*   3 capas ocultas con 16 neuronas cada una y con funcion de activación `ReLu`\n",
        "*   1 capa de salida con 1 neurona con funcion de activación por defecto (`linear`)\n",
        "\n",
        "\n",
        "Usando [Sequential API](https://www.tensorflow.org/guide/keras/sequential_model) [2 Pts]\n",
        "\n",
        "\n"
      ],
      "metadata": {
        "id": "PQUT_wwPodpC"
      }
    },
    {
      "cell_type": "markdown",
      "source": [
        "*Para ello se puede apoyar en la función [Sequential](https://www.tensorflow.org/api_docs/python/tf/keras/Sequential) de `Tensorflow`.*\n",
        "\n",
        "```\n",
        "model = Sequential([\n",
        "  Input(..., name=''),\n",
        "  Dense(units=128, activation='relu', ..., name=''),\n",
        "  Dense(units=128, activation='relu', ..., name=''),\n",
        "  ...\n",
        "  Dense(units=1, ..., name='')\n",
        "])\n",
        "```"
      ],
      "metadata": {
        "id": "T-PtWGmSp1Qf"
      }
    },
    {
      "cell_type": "markdown",
      "source": [
        "Y compile el modelo utilizando model.compile de `Tensorflow` considerando como base el siguiente ejemplo:\n",
        "\n",
        "```\n",
        "model.compile(\n",
        "    optimizer=keras.optimizers.RMSprop(learning_rate=1e-3),\n",
        "    loss=keras.losses.SparseCategoricalCrossentropy(),\n",
        "    metrics=[keras.metrics.SparseCategoricalAccuracy()],\n",
        ")\n",
        "```\n",
        "Para mayor información se recomienda revisar el siguiente [link](https://www.tensorflow.org/guide/keras/train_and_evaluate#the_compile_method_specifying_a_loss_metrics_and_an_optimizer)."
      ],
      "metadata": {
        "id": "OoMs7ShbEY5K"
      }
    },
    {
      "cell_type": "markdown",
      "source": [
        "Utilizar:\n",
        "* `optimizer` = `Adam(learning_rate=1e-3)` con los parámetros por defecto\n",
        "* `loss` = `Mean Squared Error`\n",
        "* `metrics` = `Mean Squared Error`"
      ],
      "metadata": {
        "id": "a66obyMaFykx"
      }
    },
    {
      "cell_type": "code",
      "source": [
        "### START CODE HERE ###\n"
      ],
      "metadata": {
        "id": "LupoFaCx7RpF"
      },
      "execution_count": null,
      "outputs": []
    },
    {
      "cell_type": "markdown",
      "source": [
        "**Calcule la cantidad de parámetros entrenables de esta red y luego verifique su resultado utilizando `model.summary()`** (Cuando se pide el número de parámetros explicitar como llego a ese valor, que multiplicaciones o sumas tuvo que realizar) [0.5 Pts]"
      ],
      "metadata": {
        "id": "Y55HnnTfIybh"
      }
    },
    {
      "cell_type": "markdown",
      "source": [
        "`Número de Parámetros` = ...."
      ],
      "metadata": {
        "id": "7OuMYQcfJAdB"
      }
    },
    {
      "cell_type": "code",
      "source": [
        "### START CODE HERE ###\n"
      ],
      "metadata": {
        "id": "xlNrmcs1Ixch"
      },
      "execution_count": null,
      "outputs": []
    },
    {
      "cell_type": "markdown",
      "source": [
        "**Muestre la estructura de la red utilizando la función `tf.keras.utils.plot_model`** [1 Pts]"
      ],
      "metadata": {
        "id": "qV1aBRYSJMJ6"
      }
    },
    {
      "cell_type": "code",
      "source": [
        "### START CODE HERE ###\n"
      ],
      "metadata": {
        "id": "AURDJ6upJV2g"
      },
      "execution_count": null,
      "outputs": []
    },
    {
      "cell_type": "markdown",
      "source": [
        "#### ¿Cómo crear funciones de perdida?"
      ],
      "metadata": {
        "id": "LKsFWy7e9q8r"
      }
    },
    {
      "cell_type": "markdown",
      "source": [
        "Para probar los siguientes apartados vamos a crear un dataset muy sencillo que corresponde a 100 datos extraídos de la siguiente ecuación:\n",
        "\n",
        "$$y = 2x + 1$$\n",
        "\n",
        "e intentaremos predecir $x=100$, lo cual debería ser $y=201$ o muy cercano a este valor."
      ],
      "metadata": {
        "id": "dz9oyZtRUfpk"
      }
    },
    {
      "cell_type": "code",
      "source": [
        "# Create a dummy dataset\n",
        "x = tf.linspace(start=1, stop=100, num=100)\n",
        "y = tf.multiply(x, 2) + 1"
      ],
      "metadata": {
        "id": "mtQfF7yIU56E"
      },
      "execution_count": null,
      "outputs": []
    },
    {
      "cell_type": "markdown",
      "source": [
        "`Tensorflow` da bastante flexibilidad y podemos crear las funciones de pérdidas que queramos, en este caso creare la funcion de RMSE.\n"
      ],
      "metadata": {
        "id": "Vwm6eIbY8HH-"
      }
    },
    {
      "cell_type": "code",
      "source": [
        "# With subclassing\n",
        "class MyCustomRMSEV1(Loss):\n",
        "\n",
        "  def __init__(self, **kwargs):\n",
        "    super(MyCustomRMSEV1, self).__init__(**kwargs)\n",
        "\n",
        "  def call(self, y_true, y_pred):\n",
        "    mse = tf.reduce_mean(tf.square(y_pred - y_true))\n",
        "    rmse = tf.math.sqrt(mse)\n",
        "    return rmse"
      ],
      "metadata": {
        "id": "OZVWP9e9MKA1"
      },
      "execution_count": null,
      "outputs": []
    },
    {
      "cell_type": "code",
      "source": [
        "model = Sequential([Dense(units=1, input_shape=[1])])\n",
        "model.compile(optimizer='adam', loss=MyCustomRMSEV1())\n",
        "model.fit(x, y, epochs=1000, verbose=0)\n",
        "\n",
        "print(f\"Prediction {model.predict([101.0])}\")"
      ],
      "metadata": {
        "colab": {
          "base_uri": "https://localhost:8080/"
        },
        "id": "621fKgY-VwkP",
        "outputId": "869d0ca3-d5d0-4b6e-a5b7-8e703a06c2e5"
      },
      "execution_count": null,
      "outputs": [
        {
          "output_type": "stream",
          "name": "stdout",
          "text": [
            "Prediction [[203.01186]]\n"
          ]
        }
      ]
    },
    {
      "cell_type": "code",
      "source": [
        "# Without subclassing\n",
        "def MyCustomRMSEV2():\n",
        "\n",
        "  def loss(y_true, y_pred):\n",
        "    mse = tf.reduce_mean(tf.square(y_pred - y_true))\n",
        "    rmse = tf.math.sqrt(mse)\n",
        "    return rmse\n",
        "\n",
        "  return loss"
      ],
      "metadata": {
        "id": "0oJZwl8NVGSV"
      },
      "execution_count": null,
      "outputs": []
    },
    {
      "cell_type": "code",
      "source": [
        "model = Sequential([Dense(units=1, input_shape=[1])])\n",
        "model.compile(optimizer='adam', loss=MyCustomRMSEV2())\n",
        "model.fit(x, y, epochs=1000, verbose=0)\n",
        "\n",
        "print(f\"Prediction {model.predict([101.0])}\")"
      ],
      "metadata": {
        "colab": {
          "base_uri": "https://localhost:8080/"
        },
        "id": "wXUxwC2aWUbV",
        "outputId": "03eee12c-5def-42ae-8a3a-5f2612a57365"
      },
      "execution_count": null,
      "outputs": [
        {
          "output_type": "stream",
          "name": "stdout",
          "text": [
            "Prediction [[202.98393]]\n"
          ]
        }
      ]
    },
    {
      "cell_type": "markdown",
      "source": [
        "En la versión que no utiliza subclassign le podemos pasar parámetros adicionales a la funcion, como por ejemplo:\n"
      ],
      "metadata": {
        "id": "_Y4Ao6rCXFeA"
      }
    },
    {
      "cell_type": "code",
      "source": [
        "def MyCustomRMSEV3(factor):\n",
        "\n",
        "  def loss(y_true, y_pred):\n",
        "    mse = tf.reduce_mean(tf.square(y_pred - y_true))\n",
        "    rmse = tf.math.sqrt(mse)\n",
        "    return rmse / factor\n",
        "\n",
        "  return loss"
      ],
      "metadata": {
        "id": "ENVlivffXQXz"
      },
      "execution_count": null,
      "outputs": []
    },
    {
      "cell_type": "code",
      "source": [
        "model = Sequential([Dense(units=1, input_shape=[1])])\n",
        "model.compile(optimizer='adam', loss=MyCustomRMSEV3(factor=100))\n",
        "model.fit(x, y, epochs=1000, verbose=0)\n",
        "\n",
        "print(f\"Prediction {model.predict([101.0])}\")"
      ],
      "metadata": {
        "colab": {
          "base_uri": "https://localhost:8080/"
        },
        "id": "XGboH4xgWalW",
        "outputId": "63688dfd-cb9c-484d-eb0f-14d770aecabe"
      },
      "execution_count": null,
      "outputs": [
        {
          "output_type": "stream",
          "name": "stdout",
          "text": [
            "Prediction [[202.18678]]\n"
          ]
        }
      ]
    },
    {
      "cell_type": "markdown",
      "source": [
        "**Existe una funcion de perdida para regresión llamada Huber, investigar cómo se calcula, impleméntela usando `Tensorflow` y prediga el valor para $x=100$ considerando el dataset dummy creado anteriormente** [1 Pts]\n",
        "\n",
        "\n"
      ],
      "metadata": {
        "id": "IzE32YT2k646"
      }
    },
    {
      "cell_type": "markdown",
      "source": [
        "`Huber`: "
      ],
      "metadata": {
        "id": "sB8fLRK2KXJr"
      }
    },
    {
      "cell_type": "code",
      "source": [
        "### START CODE HERE ###\n"
      ],
      "metadata": {
        "id": "5YvGTcc3lPgn"
      },
      "execution_count": null,
      "outputs": []
    },
    {
      "cell_type": "markdown",
      "source": [
        "#### ¿Cómo crear funciones de activación?"
      ],
      "metadata": {
        "id": "nwFm4wEoSJn9"
      }
    },
    {
      "cell_type": "markdown",
      "source": [
        "También podemos crear funciones de activación utilizando `Tensorflow`. Para ello se muestra el ejemplo de la funcion de activación sigmoidal."
      ],
      "metadata": {
        "id": "RG3iw15SSYGl"
      }
    },
    {
      "cell_type": "code",
      "source": [
        "def MySigmoid(x):\n",
        "  return 1/ (1 + tf.math.exp(-x))\n",
        "\n",
        "model = Sequential([Dense(units=1, input_shape=[1], activation=MySigmoid)])\n",
        "model.compile(optimizer='adam', loss=MyCustomHuberLoss(delta=0.5))\n",
        "model.fit(x, y, epochs=1000, verbose=0)\n",
        "\n",
        "print(f\"Prediction {model.predict([101.0])}\")"
      ],
      "metadata": {
        "colab": {
          "base_uri": "https://localhost:8080/"
        },
        "id": "gc-RJe1ySNtR",
        "outputId": "3439894c-5ac6-45ec-8539-48d4d6a89cbf"
      },
      "execution_count": null,
      "outputs": [
        {
          "output_type": "stream",
          "name": "stdout",
          "text": [
            "Prediction [[258.6137]]\n"
          ]
        }
      ]
    },
    {
      "cell_type": "markdown",
      "source": [
        "**Identifique la expresión matemática que computa la funcion de activación `LeakyRelu` e impleméntela utilizando `Tensorflow`. Utilice como funcion de activación `LeakyRelu` con cualquier valor de `alpha` y prediga el valor para $x=100$ considerando el dataset dummy creado anteriormente** [1 Pts]\n"
      ],
      "metadata": {
        "id": "uH1JQ8ENQHKD"
      }
    },
    {
      "cell_type": "code",
      "source": [
        "### START CODE HERE ###\n"
      ],
      "metadata": {
        "id": "uEMkAKrCO8Cm"
      },
      "execution_count": null,
      "outputs": []
    },
    {
      "cell_type": "markdown",
      "source": [
        "`LeakyRelu`:"
      ],
      "metadata": {
        "id": "CplwPBM7QUo3"
      }
    },
    {
      "cell_type": "markdown",
      "source": [
        "#### ¿Cómo crear capas personalizadas?"
      ],
      "metadata": {
        "id": "EMrrCQWqSPas"
      }
    },
    {
      "cell_type": "markdown",
      "source": [
        "Para crear capas personalizadas tenemos que hacer subclassing a la clase `Layer`. En este caso se replica parte de la capa `Dense` que utilizamos anteriormente."
      ],
      "metadata": {
        "id": "knddRuhLYOt_"
      }
    },
    {
      "cell_type": "code",
      "source": [
        "class MyCustomDenseV1(Layer):\n",
        "\n",
        "  def __init__(self, units=16, activation=None):\n",
        "    \"\"\"Inicializar los atributos de la instancia\"\"\"\n",
        "    super(MyCustomDenseV1, self).__init__()\n",
        "    self.units = units\n",
        "    self.activation = tf.keras.activations.get(activation)\n",
        "\n",
        "  def build(self, input_shape):\n",
        "    \"\"\"Crear el 'template' de la capa (pesos)\"\"\"\n",
        "     # Initialize the weights\n",
        "    w_init = tf.random_normal_initializer()\n",
        "    self.w = tf.Variable(name=\"kernel\",\n",
        "                        initial_value=w_init(shape=(input_shape[-1], self.units), dtype='float32'),\n",
        "                        trainable=True)\n",
        "    b_init = tf.zeros_initializer()\n",
        "    # Initialize the biases\n",
        "    self.b = tf.Variable(name=\"bias\",\n",
        "                         initial_value=b_init(shape=(self.units, ), dtype='float32'),\n",
        "                         trainable=True)\n",
        "  \n",
        "  def call(self, inputs):\n",
        "    \"\"\"Definir la operaciones que realiza la capa desde inputs a outputs\"\"\"\n",
        "    return self.activation(tf.matmul(inputs, self.w) + self.b)"
      ],
      "metadata": {
        "id": "D_p_C_OSSO_X"
      },
      "execution_count": null,
      "outputs": []
    },
    {
      "cell_type": "code",
      "source": [
        "model = Sequential([Input(shape=(1, )), MyCustomDenseV1(units=1)])\n",
        "model.compile(optimizer=Adam(learning_rate=1e-3), loss=MyCustomRMSEV3(factor=10))\n",
        "model.fit(x, y, epochs=500, verbose=0)\n",
        "\n",
        "print(f\"Prediction {model.predict([101.0])}\")"
      ],
      "metadata": {
        "colab": {
          "base_uri": "https://localhost:8080/"
        },
        "id": "mEN7V3RAaD4g",
        "outputId": "c3034893-fb05-4500-8070-398ff8668a96"
      },
      "execution_count": null,
      "outputs": [
        {
          "output_type": "stream",
          "name": "stdout",
          "text": [
            "Prediction [[201.69774]]\n"
          ]
        }
      ]
    },
    {
      "cell_type": "markdown",
      "source": [
        "**Crear una capa densa con el nombre `MyCustomDenseV2` que compute lo siguiente: [1 Pts]\n",
        "$$y = ax^3 * bx^2 - cx + d $$** \n",
        "Esto puede que no tenga mucho sentido en la práctica, es solo para que se familiaricen un poco con el código."
      ],
      "metadata": {
        "id": "o7pROKobZG4h"
      }
    },
    {
      "cell_type": "markdown",
      "source": [
        "Utilice su capa `MyCustomDenseV2` y prediga el valor para $x=100$ considerando el dataset dummy creado anteriormente"
      ],
      "metadata": {
        "id": "4B4cq-1Bq4pl"
      }
    },
    {
      "cell_type": "code",
      "source": [
        "### START CODE HERE ###\n"
      ],
      "metadata": {
        "id": "KXnULzuObkW6"
      },
      "execution_count": null,
      "outputs": []
    },
    {
      "cell_type": "markdown",
      "source": [
        "**Calcular la cantidad de parámetros de su modelo anterior. Explicar su resultado** [0.5 Pts]"
      ],
      "metadata": {
        "id": "0ogLDYmtHM7S"
      }
    },
    {
      "cell_type": "markdown",
      "source": [
        "`Número de parámetros`: "
      ],
      "metadata": {
        "id": "ZfJ7CExSHUtW"
      }
    },
    {
      "cell_type": "markdown",
      "source": [
        "#### ¿Qué son los callbacks en TensorFlow?"
      ],
      "metadata": {
        "id": "UUVEWVGP96_p"
      }
    },
    {
      "cell_type": "markdown",
      "source": [
        "**Existen multiples `Callbacks` dispibles en `Tensorflow` e incluso uno puede crear `Callbacks` personalizados. Defina la utilidad de los `Callbacks` y averiguar cómo funciona el callback [EarlyStopping](https://www.tensorflow.org/api_docs/python/tf/keras/callbacks/EarlyStopping) y [ModelCheckpoint](https://www.tensorflow.org/api_docs/python/tf/keras/callbacks/ModelCheckpoint). Finalmente cree una lista con ambos callbacks para posteriormente ser pasados al entrenamiento de la red** [1 Pts]"
      ],
      "metadata": {
        "id": "-OLD_9I1ljqY"
      }
    },
    {
      "cell_type": "markdown",
      "source": [
        "*   `Callbacks`:\n",
        "*   `EarlyStopping`:\n",
        "*   `ModelCheckpoint`:\n",
        "\n"
      ],
      "metadata": {
        "id": "oQWc4BornWPZ"
      }
    },
    {
      "cell_type": "markdown",
      "source": [
        "Para `EarlyStopping` utilice los parámetros `monitor, patience y restore_best_weights`. Elija un valor apropiado para `monitor y patience`, el parámetro `restore_best_weights` déjelo en True.\n"
      ],
      "metadata": {
        "id": "Q_Q1cYUaoOGO"
      }
    },
    {
      "cell_type": "markdown",
      "source": [
        "Para `ModelCheckpoint` utilice los parámetros `filepath, monitor, save_best_only y save_weights_only`. Elija un valor para los parámetros `filepath y monitor`, los parámetros `save_best_only, save_weights_only` déjelos en True.\n"
      ],
      "metadata": {
        "id": "u96JfThbngSF"
      }
    },
    {
      "cell_type": "code",
      "source": [
        "### START CODE HERE ###\n"
      ],
      "metadata": {
        "id": "8hJPNiev9_VQ"
      },
      "execution_count": null,
      "outputs": []
    },
    {
      "cell_type": "markdown",
      "source": [
        "#### Entrenamiento de la primera red neuronal"
      ],
      "metadata": {
        "id": "M09X30sy-Aiw"
      }
    },
    {
      "cell_type": "markdown",
      "source": [
        "Para entrenar una red la forma más sencilla es utilizar el metodo `model.fit`. También se puede personalizar lo que sucede en el model.fit pero eso quedara para el siguiente curso de introducción a las redes neuronales. Si les interesa saber acerca del tema les dejo el siguiente [link](https://www.tensorflow.org/guide/keras/customizing_what_happens_in_fit)"
      ],
      "metadata": {
        "id": "IcJHLqaNacWa"
      }
    },
    {
      "cell_type": "markdown",
      "source": [
        "Entrene su modelo utilizando `model.fit`. Defina un numero de epoch acorde al problema, utilice los callbacks definidos anteriormente y los dataset (entrenamiento y validacion) que ya tiene listos para ser pasados por la red. Guardar el resultado en una variable, puede ser llamada `history`."
      ],
      "metadata": {
        "id": "U80ZUkfDbSff"
      }
    },
    {
      "cell_type": "code",
      "source": [
        "### START CODE HERE ###\n"
      ],
      "metadata": {
        "id": "RkhVft3K-1_Z"
      },
      "execution_count": null,
      "outputs": []
    },
    {
      "cell_type": "markdown",
      "source": [
        "**Grafique las curvas de entrenamiento. Comente el grafico** [1 Pts]"
      ],
      "metadata": {
        "id": "ktYMkHZRc112"
      }
    },
    {
      "cell_type": "code",
      "source": [
        "### START CODE HERE ###\n"
      ],
      "metadata": {
        "id": "Op-TxN_adSIm"
      },
      "execution_count": null,
      "outputs": []
    },
    {
      "cell_type": "markdown",
      "source": [
        "Identifique en que parte de la siguiente figura se encuentra su entrenamiento: \n",
        "\n",
        "<img src=\"https://drive.google.com/uc?id=1kecseaITvJeG45WNePflLn_u3sOYUyq4\" width=\"50%\"/>"
      ],
      "metadata": {
        "id": "kRhFIuXOeDM1"
      }
    },
    {
      "cell_type": "markdown",
      "source": [
        "**En caso de que se encuentre en la parte izquierda o derecha que tiene que recomendaría hacer?** [1 Pts]"
      ],
      "metadata": {
        "id": "l5rH1pthhC9c"
      }
    },
    {
      "cell_type": "markdown",
      "source": [
        "`Respuesta`:"
      ],
      "metadata": {
        "id": "x-DQ04idhP9Y"
      }
    },
    {
      "cell_type": "markdown",
      "source": [
        "**Compute el resultado de su modelo para el conjunto de testing** [1 Pts]"
      ],
      "metadata": {
        "id": "A6oPWLZ4hql0"
      }
    },
    {
      "cell_type": "code",
      "source": [
        "### START CODE HERE ### \n"
      ],
      "metadata": {
        "id": "7gDH3ZlwhpSF"
      },
      "execution_count": null,
      "outputs": []
    },
    {
      "cell_type": "markdown",
      "source": [
        "#### ¿Cómo seteamos los hiperparámetros en una red neuronal?"
      ],
      "metadata": {
        "id": "dOXulBJABPLf"
      }
    },
    {
      "cell_type": "markdown",
      "source": [
        "**Para setear los hiperparámetros en `Tensorflow` tenemos algo que se llama [Keras Tuner](https://www.tensorflow.org/tutorials/keras/keras_tuner). Investigue como utilizarlo y encuentre los mejores hiperparámetros para su modelo anterior** [2 Pts]"
      ],
      "metadata": {
        "id": "1TaMXpEPqXpA"
      }
    },
    {
      "cell_type": "code",
      "source": [
        "### START CODE HERE ### \n"
      ],
      "metadata": {
        "id": "deyxO-cQBTRw"
      },
      "execution_count": null,
      "outputs": []
    },
    {
      "cell_type": "markdown",
      "source": [
        "**Muestre los mejores hiperparámetros obtenidos para la red neuronal, cree de nuevo la red y reentrénela usando los mejores hiperparámetros. Muestre las curvas de entrenamiento y finalmente evalúe su red con el conjunto de testing** [1 Pts]\n"
      ],
      "metadata": {
        "id": "gQpr25IABIX_"
      }
    },
    {
      "cell_type": "code",
      "source": [
        "### START CODE HERE ### \n"
      ],
      "metadata": {
        "id": "LUvVjKCiAnbE"
      },
      "execution_count": null,
      "outputs": []
    },
    {
      "cell_type": "markdown",
      "source": [
        "### Functional API"
      ],
      "metadata": {
        "id": "djnD_Rjt-2Zx"
      }
    },
    {
      "cell_type": "markdown",
      "source": [
        "#### Entrenamiento"
      ],
      "metadata": {
        "id": "uDDAPLug_UTS"
      }
    },
    {
      "cell_type": "markdown",
      "source": [
        "Crear y entrenar una red neuronal que tenga:\n",
        "\n",
        "\n",
        "*   1 capa de entrada (Identifique que dimensiones debería tener)\n",
        "*   3 capas ocultas con 16 neuronas cada una y con funcion de activación `ReLu`\n",
        "*   1 capa de salida con 1 neurona con funcion de activación por defecto (`linear`)\n",
        "\n",
        "\n",
        "usando [Functional API](https://www.tensorflow.org/guide/keras/functional?hl=es-419) [2 Pts]\n"
      ],
      "metadata": {
        "id": "-CSzBf6FDoOn"
      }
    },
    {
      "cell_type": "markdown",
      "source": [
        "Compilar el modelo de la misma forma que en el apartado de `Sequential API`"
      ],
      "metadata": {
        "id": "Yqb1wCUfDwwa"
      }
    },
    {
      "cell_type": "code",
      "source": [
        "### START CODE HERE ###\n"
      ],
      "metadata": {
        "id": "ay-q_IiBEGXA"
      },
      "execution_count": null,
      "outputs": []
    },
    {
      "cell_type": "markdown",
      "source": [
        "**Compruebe que al utilizar `Functional API` se obtiene la misma cantidad de parámetros entrenables que cuando se utiliza `Sequential API`. Realice el entrenamiento de modelo**  [1 Pts]\n"
      ],
      "metadata": {
        "id": "frnHzm7rFNVj"
      }
    },
    {
      "cell_type": "code",
      "source": [
        "### START CODE HERE ###\n"
      ],
      "metadata": {
        "id": "XhuM-OU2E5ry"
      },
      "execution_count": null,
      "outputs": []
    },
    {
      "cell_type": "markdown",
      "source": [
        "**Grafique la curva de entrenamiento y comente los resultados** [0.5 Pts]"
      ],
      "metadata": {
        "id": "MTmEmsKTFpu8"
      }
    },
    {
      "cell_type": "code",
      "source": [
        "### START CODE HERE ###\n"
      ],
      "metadata": {
        "id": "fQppLXGOFpPi"
      },
      "execution_count": null,
      "outputs": []
    },
    {
      "cell_type": "markdown",
      "source": [
        "Parece bastante similar `Sequential API` y `Functional API` la diferencia es que con `Functional API` podemos tener modelos más complejos que tengan por ejemplo skip connections o bien que tengan múltiples entradas y/o salidas (**Lo que puede o no servir para el desafío**)"
      ],
      "metadata": {
        "id": "-Ubb01Y0F2Rg"
      }
    },
    {
      "cell_type": "markdown",
      "source": [
        "**Investigar la utilidad de las skip connections en redes neuronales y agregue algunas skip connections al modelo anterior, puede agregar más capas si lo requiere** [2 Pts]"
      ],
      "metadata": {
        "id": "Takn92bdGNbm"
      }
    },
    {
      "cell_type": "markdown",
      "source": [
        "`Skip Connections`: "
      ],
      "metadata": {
        "id": "NnaLJ8JPGcly"
      }
    },
    {
      "cell_type": "code",
      "source": [
        "### START CODE HERE ###\n"
      ],
      "metadata": {
        "id": "Pc4LKQ87GgI0"
      },
      "execution_count": null,
      "outputs": []
    },
    {
      "cell_type": "markdown",
      "source": [
        "**Muestre que su modelo si cuenta con skip connections utilizando `tf.keras.utils.plot_model`** [0.5 Pts]"
      ],
      "metadata": {
        "id": "m-zJQpbMHcl3"
      }
    },
    {
      "cell_type": "code",
      "source": [
        "### START CODE HERE ###\n"
      ],
      "metadata": {
        "id": "JVHF06UrHbuK"
      },
      "execution_count": null,
      "outputs": []
    },
    {
      "cell_type": "markdown",
      "source": [
        "**Entrene este modelo, grafique las curvas de entrenamiento y evalúe el modelo con el conjunto de testing** [0.5 Pts]\n"
      ],
      "metadata": {
        "id": "CYjxC0LdIFd4"
      }
    },
    {
      "cell_type": "code",
      "source": [
        "### START CODE HERE ### \n"
      ],
      "metadata": {
        "id": "yCqw0Hv4IE9e"
      },
      "execution_count": null,
      "outputs": []
    },
    {
      "cell_type": "markdown",
      "source": [
        "#### Evaluación"
      ],
      "metadata": {
        "id": "NorybEvh_YJV"
      }
    },
    {
      "cell_type": "code",
      "source": [
        "### START CODE HERE ###  \n"
      ],
      "metadata": {
        "id": "h9ArXA29_aQY"
      },
      "execution_count": null,
      "outputs": []
    },
    {
      "cell_type": "markdown",
      "source": [
        "### Model Subclassing"
      ],
      "metadata": {
        "id": "00PiheaA-8Ps"
      }
    },
    {
      "cell_type": "markdown",
      "source": [
        "#### Entrenamiento"
      ],
      "metadata": {
        "id": "l5rMbp2SMn2b"
      }
    },
    {
      "cell_type": "markdown",
      "source": [
        "Crear y entrenar una red neuronal que tenga:\n",
        "\n",
        "\n",
        "*   1 capa de entrada (Identifique que dimensiones debería tener)\n",
        "*   3 capas ocultas con 16 neuronas cada una y con funcion de activación `ReLu`\n",
        "*   1 capa de salida con 1 neurona con funcion de activación por defecto (`linear`)\n",
        "\n",
        "\n",
        "usando [Model Subclassing](https://www.tensorflow.org/guide/keras/custom_layers_and_models) [2 Pts]"
      ],
      "metadata": {
        "id": "9BDyadEHI_Wa"
      }
    },
    {
      "cell_type": "code",
      "source": [
        "### START CODE HERE ###  \n"
      ],
      "metadata": {
        "id": "4NI6jQzz--p4"
      },
      "execution_count": null,
      "outputs": []
    },
    {
      "cell_type": "markdown",
      "source": [
        "Parece nuevamente que es lo mismo, pero la diferencia en este caso es que con esto podemos customizar el entrenamiento y muchas cosas más del modelo, pero hay que pagar el precio de trabajar a más bajo nivel."
      ],
      "metadata": {
        "id": "MAYZBKA3JwHG"
      }
    },
    {
      "cell_type": "markdown",
      "source": [
        "**Entrene este modelo, grafique las curvas de entrenamiento y evalúe el modelo con el conjunto de testing. Comente los resultados** [0.5 Pts]"
      ],
      "metadata": {
        "id": "lBE0Y3X7Kbbe"
      }
    },
    {
      "cell_type": "code",
      "source": [
        "### START CODE HERE ###\n"
      ],
      "metadata": {
        "id": "KK3LMUVL_djC"
      },
      "execution_count": null,
      "outputs": []
    },
    {
      "cell_type": "markdown",
      "source": [
        "#### Evaluación"
      ],
      "metadata": {
        "id": "TLJXB4wz_dxh"
      }
    },
    {
      "cell_type": "code",
      "source": [
        "### START CODE HERE ###\n"
      ],
      "metadata": {
        "id": "7ny-GV22_gER"
      },
      "execution_count": null,
      "outputs": []
    },
    {
      "cell_type": "markdown",
      "metadata": {
        "id": "S5aFC__LKE7j"
      },
      "source": [
        "# 1.2) Ensamblados 📊\n",
        "\n"
      ]
    },
    {
      "cell_type": "markdown",
      "source": [
        "Típicamente son tres los métodos más comunes de ensamblado: `Bagging`, `Boosting` y `Stacking`."
      ],
      "metadata": {
        "id": "GQhamIK7NEZJ"
      }
    },
    {
      "cell_type": "markdown",
      "source": [
        "**Defina cada uno de los métodos mencionados anteriormente** [2 Pts]\n"
      ],
      "metadata": {
        "id": "82VLzzKSiLt9"
      }
    },
    {
      "cell_type": "markdown",
      "source": [
        "* `Bagging`:\n",
        "* `Boosting`:\n",
        "* `Stacking`: "
      ],
      "metadata": {
        "id": "FC8ekmJpiQEW"
      }
    },
    {
      "cell_type": "markdown",
      "source": [
        "## Redes neuronales"
      ],
      "metadata": {
        "id": "02CWyF9QAJhs"
      }
    },
    {
      "cell_type": "markdown",
      "source": [
        "**Cree un ensamblado de tipo `Bagging` utilizando los modelos creados con `Sequential API`, `Functional API` y `Model Subclassing`. Muestre el ensamble utilizando `tf.keras.utils.plot_model`, entrénelo, grafique las curvas de entrenamiento y evalúelo en el conjunto de testing. Comente los resultados** [4 Pts]"
      ],
      "metadata": {
        "id": "dh8i9ySjN2Dz"
      }
    },
    {
      "cell_type": "markdown",
      "source": [
        "Recuerde congelar los parámetros de estos modelos luego de ser entrenados para ser utilizados en el ensamble, utilice `model.trainable=False` para congelar los parámetros."
      ],
      "metadata": {
        "id": "JmEQTCwsm3hR"
      }
    },
    {
      "cell_type": "code",
      "source": [
        "### START CODE HERE ###\n"
      ],
      "metadata": {
        "id": "GjJ41INxALf3"
      },
      "execution_count": null,
      "outputs": []
    },
    {
      "cell_type": "markdown",
      "source": [
        "## Modelos clásicos (Random Forest, XGBoost y CatBoost)"
      ],
      "metadata": {
        "id": "jVaJM2G8APUu"
      }
    },
    {
      "cell_type": "markdown",
      "source": [
        "**Realizar un ensamble de tipo `Stacking` considerando el mismo dataset de house prediction. Para ello entrene 3 modelos distintos: `Random Forest`, `XGBoost` y `CatBoost`. Evalúe el ensamble en el conjunto de testing y comente los resultados** [4 Pts]"
      ],
      "metadata": {
        "id": "x4-qu9msSzdT"
      }
    },
    {
      "cell_type": "code",
      "source": [
        "### START CODE HERE ###\n"
      ],
      "metadata": {
        "id": "LOnICOXhAWOw"
      },
      "execution_count": null,
      "outputs": []
    },
    {
      "cell_type": "markdown",
      "source": [
        "# 2) Desafío 🏆\n",
        "\n"
      ],
      "metadata": {
        "id": "PRfCrP9BU424"
      }
    },
    {
      "cell_type": "markdown",
      "source": [
        "[House Price Prediction](https://www.kaggle.com/t/82ab64ccf77248e9bce30924e6f58459)"
      ],
      "metadata": {
        "id": "oolbCtaH9NUc"
      }
    },
    {
      "cell_type": "markdown",
      "source": [
        "<img src=\"https://drive.google.com/uc?id=1ep729kaGruTMz7Iz6MSnWrfyAy-y4OL9\" width=\"60%\"/>\n"
      ],
      "metadata": {
        "id": "sUa2OW6BBrpN"
      }
    },
    {
      "cell_type": "markdown",
      "source": [
        "**La nota de este apartado se hará en base a la posición del ranking obtenido en la plataforma `Kaggle`** [60 Pts]"
      ],
      "metadata": {
        "id": "SjleIzzAF5h-"
      }
    },
    {
      "cell_type": "markdown",
      "source": [
        "*Todo el código tiene que estar presente en ese apartado incluyendo la generación del archivo para subirlo a la plataforma, pueden agregar la cantidad de celdas que requieran y se valora que incluyan comentarios a los resultados obtenidos* "
      ],
      "metadata": {
        "id": "84Xx_MtNF-6b"
      }
    },
    {
      "cell_type": "markdown",
      "source": [
        "---\n",
        "**Utilizar todo lo aprendido en las tareas incluyendo esta última**"
      ],
      "metadata": {
        "id": "7NSCr1l3kwGd"
      }
    },
    {
      "cell_type": "code",
      "source": [
        "### START CODE HERE ###\n"
      ],
      "metadata": {
        "id": "U-DeD656k0_e"
      },
      "execution_count": null,
      "outputs": []
    }
  ],
  "metadata": {
    "kernelspec": {
      "display_name": "Python 3",
      "language": "python",
      "name": "python3"
    },
    "language_info": {
      "codemirror_mode": {
        "name": "ipython",
        "version": 3
      },
      "file_extension": ".py",
      "mimetype": "text/x-python",
      "name": "python",
      "nbconvert_exporter": "python",
      "pygments_lexer": "ipython3",
      "version": "3.7.1"
    },
    "colab": {
      "name": "Tarea_3_ML_2022-1.ipynb",
      "provenance": [],
      "collapsed_sections": [],
      "toc_visible": true
    }
  },
  "nbformat": 4,
  "nbformat_minor": 0
}